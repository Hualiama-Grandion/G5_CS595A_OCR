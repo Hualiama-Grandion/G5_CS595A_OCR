{
 "cells": [
  {
   "cell_type": "markdown",
   "metadata": {},
   "source": [
    "# CS 595A - G5 - Project\n",
    "Sheridan C. Perry\\\n",
    "Jesus Ferrand"
   ]
  },
  {
   "cell_type": "markdown",
   "metadata": {},
   "source": [
    "## Import Packages"
   ]
  },
  {
   "cell_type": "code",
   "execution_count": 2,
   "metadata": {},
   "outputs": [],
   "source": [
    "import pandas as pd\n",
    "import numpy as np\n",
    "import matplotlib as mpl\n",
    "import matplotlib.pyplot as plt\n",
    "import os\n",
    "import csv"
   ]
  },
  {
   "cell_type": "markdown",
   "metadata": {},
   "source": [
    "### MatPlotLib Settings"
   ]
  },
  {
   "cell_type": "code",
   "execution_count": 3,
   "metadata": {},
   "outputs": [],
   "source": [
    "plt.rc('font',size=14)\n",
    "plt.rc('axes',labelsize=14,titlesize=14)\n",
    "plt.rc('legend',fontsize=14)\n",
    "plt.rc('xtick',labelsize=10)\n",
    "plt.rc('ytick',labelsize=10)"
   ]
  },
  {
   "cell_type": "markdown",
   "metadata": {},
   "source": [
    "## Pre-Processing"
   ]
  },
  {
   "cell_type": "markdown",
   "metadata": {},
   "source": [
    "### File Conventions"
   ]
  },
  {
   "cell_type": "code",
   "execution_count": 4,
   "metadata": {},
   "outputs": [],
   "source": [
    "# Location of Files that need to be analyzed using OCR using relative pathing\n",
    "InputDirectory = 'Test 1 JPEGS' # Manually Change\n",
    "Number_of_Files = len([name for name in os.listdir(InputDirectory)]) # Find files within location and count length\n",
    "\n",
    "# Find files in this directory \n",
    "FileNames_Directory = os.listdir(InputDirectory)\n",
    "\n",
    "InputDirectoryFolder = 'Test 1 JPEGS/' # Manually Change\n",
    "FileNames_Img = [InputDirectoryFolder + s for s in FileNames_Directory]"
   ]
  },
  {
   "cell_type": "code",
   "execution_count": 5,
   "metadata": {},
   "outputs": [],
   "source": [
    "# Create empty list of CSV Names\n",
    "CSVNames = []\n",
    "\n",
    "# Create CSV Directory Folder\n",
    "CSVDirectory = 'Test 1 JPEGS CSV/' # Manually Change\n",
    "\n",
    "# Get Stems (names without extensions) of Input File Names\n",
    "FileStems = []\n",
    "for name in FileNames_Directory:\n",
    "    k = name.rfind('.')\n",
    "    FileStems.append(name[:k])\n",
    "\n",
    "# Create CSV File Path using Relative Pathing\n",
    "for i in range(1,Number_of_Files+1):\n",
    "    CSVNames.append(CSVDirectory+FileStems[i-1] + '_' + str(i) + \".csv\")"
   ]
  },
  {
   "cell_type": "markdown",
   "metadata": {},
   "source": [
    "## Optical Character Recognition"
   ]
  },
  {
   "cell_type": "markdown",
   "metadata": {},
   "source": [
    "### Load OCR"
   ]
  },
  {
   "cell_type": "code",
   "execution_count": 6,
   "metadata": {},
   "outputs": [
    {
     "name": "stdout",
     "output_type": "stream",
     "text": [
      "[2024/04/16 13:31:28] ppocr DEBUG: Namespace(help='==SUPPRESS==', use_gpu=True, use_xpu=False, ir_optim=True, use_tensorrt=False, min_subgraph_size=15, shape_info_filename=None, precision='fp32', gpu_mem=500, image_dir=None, det_algorithm='DB', det_model_dir='C:\\\\Users\\\\Owner/.paddleocr/whl\\\\det\\\\en\\\\en_PP-OCRv3_det_infer', det_limit_side_len=960, det_limit_type='max', det_db_thresh=0.3, det_db_box_thresh=0.6, det_db_unclip_ratio=1.5, max_batch_size=10, use_dilation=False, det_db_score_mode='fast', det_east_score_thresh=0.8, det_east_cover_thresh=0.1, det_east_nms_thresh=0.2, det_sast_score_thresh=0.5, det_sast_nms_thresh=0.2, det_sast_polygon=False, det_pse_thresh=0, det_pse_box_thresh=0.85, det_pse_min_area=16, det_pse_box_type='quad', det_pse_scale=1, scales=[8, 16, 32], alpha=1.0, beta=1.0, fourier_degree=5, det_fce_box_type='poly', rec_algorithm='SVTR_LCNet', rec_model_dir='C:\\\\Users\\\\Owner/.paddleocr/whl\\\\rec\\\\en\\\\en_PP-OCRv3_rec_infer', rec_image_shape='3, 48, 320', rec_batch_num=6, max_text_length=25, rec_char_dict_path='c:\\\\Users\\\\Owner\\\\AppData\\\\Local\\\\Programs\\\\Python\\\\Python311\\\\Lib\\\\site-packages\\\\paddleocr\\\\ppocr\\\\utils\\\\en_dict.txt', use_space_char=True, vis_font_path='./doc/fonts/simfang.ttf', drop_score=0.5, e2e_algorithm='PGNet', e2e_model_dir=None, e2e_limit_side_len=768, e2e_limit_type='max', e2e_pgnet_score_thresh=0.5, e2e_char_dict_path='./ppocr/utils/ic15_dict.txt', e2e_pgnet_valid_set='totaltext', e2e_pgnet_mode='fast', use_angle_cls=True, cls_model_dir='C:\\\\Users\\\\Owner/.paddleocr/whl\\\\cls\\\\ch_ppocr_mobile_v2.0_cls_infer', cls_image_shape='3, 48, 192', label_list=['0', '180'], cls_batch_num=6, cls_thresh=0.9, enable_mkldnn=False, cpu_threads=10, use_pdserving=False, warmup=False, sr_model_dir=None, sr_image_shape='3, 32, 128', sr_batch_num=1, draw_img_save_dir='./inference_results', save_crop_res=False, crop_res_save_dir='./output', use_mp=False, total_process_num=1, process_id=0, benchmark=False, save_log_path='./log_output/', show_log=True, use_onnx=False, output='./output', table_max_len=488, table_algorithm='TableAttn', table_model_dir=None, merge_no_span_structure=True, table_char_dict_path=None, layout_model_dir=None, layout_dict_path=None, layout_score_threshold=0.5, layout_nms_threshold=0.5, kie_algorithm='LayoutXLM', ser_model_dir=None, ser_dict_path='../train_data/XFUND/class_list_xfun.txt', ocr_order_method=None, mode='structure', image_orientation=False, layout=True, table=True, ocr=True, recovery=False, save_pdf=False, lang='en', det=True, rec=True, type='ocr', ocr_version='PP-OCRv3', structure_version='PP-Structurev2')\n"
     ]
    }
   ],
   "source": [
    "from paddleocr import PaddleOCR\n",
    "\n",
    "# Set up ocr with angle corrections using english\n",
    "ocr = PaddleOCR(use_angle_cls=True, lang=\"en\")  # need to run only once to download and load model into memory"
   ]
  },
  {
   "cell_type": "markdown",
   "metadata": {},
   "source": [
    "### Execute OCR"
   ]
  },
  {
   "cell_type": "code",
   "execution_count": 7,
   "metadata": {},
   "outputs": [
    {
     "name": "stdout",
     "output_type": "stream",
     "text": [
      "[2024/04/16 13:31:36] ppocr DEBUG: dt_boxes num : 30, elapse : 4.168861627578735\n",
      "[2024/04/16 13:31:36] ppocr DEBUG: cls num  : 30, elapse : 0.22794818878173828\n",
      "[2024/04/16 13:31:37] ppocr DEBUG: rec_res num  : 30, elapse : 0.19811582565307617\n",
      "[2024/04/16 13:31:37] ppocr DEBUG: dt_boxes num : 28, elapse : 0.04469466209411621\n",
      "[2024/04/16 13:31:37] ppocr DEBUG: cls num  : 28, elapse : 0.0623011589050293\n",
      "[2024/04/16 13:31:37] ppocr DEBUG: rec_res num  : 28, elapse : 0.07229757308959961\n",
      "[2024/04/16 13:31:37] ppocr DEBUG: dt_boxes num : 40, elapse : 0.051001548767089844\n",
      "[2024/04/16 13:31:37] ppocr DEBUG: cls num  : 40, elapse : 0.11371922492980957\n",
      "[2024/04/16 13:31:37] ppocr DEBUG: rec_res num  : 40, elapse : 0.12274384498596191\n",
      "[2024/04/16 13:31:37] ppocr DEBUG: dt_boxes num : 44, elapse : 0.05227851867675781\n",
      "[2024/04/16 13:31:37] ppocr DEBUG: cls num  : 44, elapse : 0.13590002059936523\n",
      "[2024/04/16 13:31:37] ppocr DEBUG: rec_res num  : 44, elapse : 0.11024594306945801\n",
      "[2024/04/16 13:31:37] ppocr DEBUG: dt_boxes num : 25, elapse : 0.04408907890319824\n",
      "[2024/04/16 13:31:37] ppocr DEBUG: cls num  : 25, elapse : 0.06374144554138184\n",
      "[2024/04/16 13:31:38] ppocr DEBUG: rec_res num  : 25, elapse : 0.055536746978759766\n",
      "[2024/04/16 13:31:38] ppocr DEBUG: dt_boxes num : 26, elapse : 0.030167818069458008\n",
      "[2024/04/16 13:31:38] ppocr DEBUG: cls num  : 26, elapse : 0.07851958274841309\n",
      "[2024/04/16 13:31:38] ppocr DEBUG: rec_res num  : 26, elapse : 0.06026768684387207\n",
      "[2024/04/16 13:31:38] ppocr DEBUG: dt_boxes num : 46, elapse : 0.06128525733947754\n",
      "[2024/04/16 13:31:38] ppocr DEBUG: cls num  : 46, elapse : 0.12221431732177734\n",
      "[2024/04/16 13:31:38] ppocr DEBUG: rec_res num  : 46, elapse : 0.13931059837341309\n",
      "[2024/04/16 13:31:38] ppocr DEBUG: dt_boxes num : 41, elapse : 0.03155374526977539\n",
      "[2024/04/16 13:31:38] ppocr DEBUG: cls num  : 41, elapse : 0.09644222259521484\n",
      "[2024/04/16 13:31:38] ppocr DEBUG: rec_res num  : 41, elapse : 0.08722043037414551\n",
      "[2024/04/16 13:31:38] ppocr DEBUG: dt_boxes num : 41, elapse : 0.03306126594543457\n",
      "[2024/04/16 13:31:38] ppocr DEBUG: cls num  : 41, elapse : 0.07419681549072266\n",
      "[2024/04/16 13:31:39] ppocr DEBUG: rec_res num  : 41, elapse : 0.07900118827819824\n",
      "[2024/04/16 13:31:39] ppocr DEBUG: dt_boxes num : 41, elapse : 0.03202342987060547\n",
      "[2024/04/16 13:31:39] ppocr DEBUG: cls num  : 41, elapse : 0.07921886444091797\n",
      "[2024/04/16 13:31:39] ppocr DEBUG: rec_res num  : 41, elapse : 0.06844568252563477\n",
      "[2024/04/16 13:31:39] ppocr DEBUG: dt_boxes num : 41, elapse : 0.04046916961669922\n",
      "[2024/04/16 13:31:39] ppocr DEBUG: cls num  : 41, elapse : 0.08572053909301758\n",
      "[2024/04/16 13:31:39] ppocr DEBUG: rec_res num  : 41, elapse : 0.0651700496673584\n",
      "[2024/04/16 13:31:39] ppocr DEBUG: dt_boxes num : 43, elapse : 0.024549484252929688\n",
      "[2024/04/16 13:31:39] ppocr DEBUG: cls num  : 43, elapse : 0.1064002513885498\n",
      "[2024/04/16 13:31:39] ppocr DEBUG: rec_res num  : 43, elapse : 0.09182929992675781\n",
      "[2024/04/16 13:31:39] ppocr DEBUG: dt_boxes num : 41, elapse : 0.0245516300201416\n",
      "[2024/04/16 13:31:39] ppocr DEBUG: cls num  : 41, elapse : 0.08053851127624512\n",
      "[2024/04/16 13:31:39] ppocr DEBUG: rec_res num  : 41, elapse : 0.0967264175415039\n",
      "[2024/04/16 13:31:40] ppocr DEBUG: dt_boxes num : 40, elapse : 0.03824591636657715\n",
      "[2024/04/16 13:31:40] ppocr DEBUG: cls num  : 40, elapse : 0.07140374183654785\n",
      "[2024/04/16 13:31:40] ppocr DEBUG: rec_res num  : 40, elapse : 0.06716370582580566\n",
      "[2024/04/16 13:31:40] ppocr DEBUG: dt_boxes num : 39, elapse : 0.026534557342529297\n",
      "[2024/04/16 13:31:40] ppocr DEBUG: cls num  : 39, elapse : 0.08345293998718262\n",
      "[2024/04/16 13:31:40] ppocr DEBUG: rec_res num  : 39, elapse : 0.06562519073486328\n",
      "[2024/04/16 13:31:40] ppocr DEBUG: dt_boxes num : 37, elapse : 0.023620128631591797\n",
      "[2024/04/16 13:31:40] ppocr DEBUG: cls num  : 37, elapse : 0.07201623916625977\n",
      "[2024/04/16 13:31:40] ppocr DEBUG: rec_res num  : 37, elapse : 0.08414506912231445\n",
      "[2024/04/16 13:31:40] ppocr DEBUG: dt_boxes num : 29, elapse : 0.05347728729248047\n",
      "[2024/04/16 13:31:40] ppocr DEBUG: cls num  : 29, elapse : 0.05583834648132324\n",
      "[2024/04/16 13:31:40] ppocr DEBUG: rec_res num  : 29, elapse : 0.050093650817871094\n",
      "[2024/04/16 13:31:40] ppocr DEBUG: dt_boxes num : 38, elapse : 0.0479276180267334\n",
      "[2024/04/16 13:31:40] ppocr DEBUG: cls num  : 38, elapse : 0.08585572242736816\n",
      "[2024/04/16 13:31:40] ppocr DEBUG: rec_res num  : 38, elapse : 0.09079909324645996\n",
      "[2024/04/16 13:31:41] ppocr DEBUG: dt_boxes num : 39, elapse : 0.03607964515686035\n",
      "[2024/04/16 13:31:41] ppocr DEBUG: cls num  : 39, elapse : 0.09965252876281738\n",
      "[2024/04/16 13:31:41] ppocr DEBUG: rec_res num  : 39, elapse : 0.09215903282165527\n",
      "[2024/04/16 13:31:41] ppocr DEBUG: dt_boxes num : 29, elapse : 0.04507875442504883\n",
      "[2024/04/16 13:31:41] ppocr DEBUG: cls num  : 29, elapse : 0.08659076690673828\n",
      "[2024/04/16 13:31:41] ppocr DEBUG: rec_res num  : 29, elapse : 0.06343674659729004\n",
      "[2024/04/16 13:31:41] ppocr DEBUG: dt_boxes num : 34, elapse : 0.041573286056518555\n",
      "[2024/04/16 13:31:41] ppocr DEBUG: cls num  : 34, elapse : 0.07364702224731445\n",
      "[2024/04/16 13:31:41] ppocr DEBUG: rec_res num  : 34, elapse : 0.08830094337463379\n",
      "[2024/04/16 13:31:41] ppocr DEBUG: dt_boxes num : 41, elapse : 0.03706479072570801\n",
      "[2024/04/16 13:31:41] ppocr DEBUG: cls num  : 41, elapse : 0.09615111351013184\n",
      "[2024/04/16 13:31:41] ppocr DEBUG: rec_res num  : 41, elapse : 0.09789586067199707\n",
      "[2024/04/16 13:31:41] ppocr DEBUG: dt_boxes num : 43, elapse : 0.03555417060852051\n",
      "[2024/04/16 13:31:42] ppocr DEBUG: cls num  : 43, elapse : 0.12279915809631348\n",
      "[2024/04/16 13:31:42] ppocr DEBUG: rec_res num  : 43, elapse : 0.09881448745727539\n",
      "[2024/04/16 13:31:42] ppocr DEBUG: dt_boxes num : 41, elapse : 0.02953791618347168\n",
      "[2024/04/16 13:31:42] ppocr DEBUG: cls num  : 41, elapse : 0.07912302017211914\n",
      "[2024/04/16 13:31:42] ppocr DEBUG: rec_res num  : 41, elapse : 0.1019904613494873\n",
      "[2024/04/16 13:31:42] ppocr DEBUG: dt_boxes num : 43, elapse : 0.03164386749267578\n",
      "[2024/04/16 13:31:42] ppocr DEBUG: cls num  : 43, elapse : 0.0944972038269043\n",
      "[2024/04/16 13:31:42] ppocr DEBUG: rec_res num  : 43, elapse : 0.0915067195892334\n",
      "[2024/04/16 13:31:42] ppocr DEBUG: dt_boxes num : 41, elapse : 0.028025150299072266\n",
      "[2024/04/16 13:31:42] ppocr DEBUG: cls num  : 41, elapse : 0.08332371711730957\n",
      "[2024/04/16 13:31:42] ppocr DEBUG: rec_res num  : 41, elapse : 0.07012224197387695\n",
      "[2024/04/16 13:31:42] ppocr DEBUG: dt_boxes num : 45, elapse : 0.047583818435668945\n",
      "[2024/04/16 13:31:43] ppocr DEBUG: cls num  : 45, elapse : 0.11918187141418457\n",
      "[2024/04/16 13:31:43] ppocr DEBUG: rec_res num  : 45, elapse : 0.09764814376831055\n",
      "[2024/04/16 13:31:43] ppocr DEBUG: dt_boxes num : 51, elapse : 0.04597210884094238\n",
      "[2024/04/16 13:31:43] ppocr DEBUG: cls num  : 51, elapse : 0.11884570121765137\n",
      "[2024/04/16 13:31:43] ppocr DEBUG: rec_res num  : 51, elapse : 0.10386252403259277\n"
     ]
    }
   ],
   "source": [
    "# Loop to write data from OCR into CSV files\n",
    "for j in range(0,Number_of_Files):\n",
    "    result = ocr.ocr(FileNames_Img[j])\n",
    "    with open(CSVNames[j], 'w', newline='') as file:\n",
    "        writer = csv.writer(file)\n",
    "        for row in result:\n",
    "            csv_row= []\n",
    "            for row0 in row[0]:\n",
    "                csv_row.append(row0[0])\n",
    "                csv_row.append(row0[1])\n",
    "            csv_row.append(row[1][0])\n",
    "            csv_row.append(row[1][1])\n",
    "            writer.writerow(csv_row)"
   ]
  },
  {
   "cell_type": "markdown",
   "metadata": {},
   "source": [
    "### Load Results and Visualize"
   ]
  },
  {
   "cell_type": "code",
   "execution_count": 8,
   "metadata": {},
   "outputs": [],
   "source": [
    "from paddleocr import draw_ocr\n",
    "from PIL import Image\n",
    "\n",
    "# Defined a function to concatenate the bounding box coordinates back into pairs for draw_ocr\n",
    "def combine_columns(row):\n",
    "    return [[row[0], row[1]], [row[2],row[3]], [row[4],row[5]], [row[6],row[7]]]\n",
    "\n",
    "# Ourput File Directory\n",
    "OutputDirectory = 'Test 1 Output/'\n",
    "\n",
    "# Empty list for Final Output Names\n",
    "FinalNames = []\n",
    "\n",
    "# Saves draw_ocr outputs in png format\n",
    "for i in range(1,Number_of_Files+1):\n",
    "    FinalNames.append(OutputDirectory + FileStems[i-1] + \"_\" + str(i) + \".png\")\n",
    "\n",
    "# Pulls corresponding information into draw_ocr, displays resulting image, and saves to output directory\n",
    "for j in range(0,Number_of_Files):  \n",
    "    TestCSV = pd.read_csv(CSVNames[j], sep=',',header=None)\n",
    "    TestCSV['combined'] = TestCSV.apply(combine_columns,axis=1)\n",
    "    image = Image.open(FileNames_Img[j]).convert('RGB')\n",
    "    boxes = TestCSV['combined']\n",
    "    txts = TestCSV[8]\n",
    "    scores = TestCSV[9]\n",
    "    im_show = draw_ocr(image, boxes, txts, scores,font_path='Font\\simfang.ttf') # Manually Change font if desired\n",
    "    im_show = Image.fromarray(im_show)\n",
    "    im_show.save(FinalNames[j])"
   ]
  },
  {
   "cell_type": "markdown",
   "metadata": {},
   "source": [
    "## Natural Language Processing"
   ]
  },
  {
   "cell_type": "markdown",
   "metadata": {},
   "source": [
    "# Results"
   ]
  },
  {
   "cell_type": "markdown",
   "metadata": {},
   "source": [
    "## OCR Accuracy"
   ]
  },
  {
   "cell_type": "code",
   "execution_count": 10,
   "metadata": {},
   "outputs": [
    {
     "data": {
      "image/png": "[encoded data removed]",
      "text/plain": [
       "<Figure size 640x480 with 1 Axes>"
      ]
     },
     "metadata": {},
     "output_type": "display_data"
    }
   ],
   "source": [
    "Avg_Confidence = []\n",
    "\n",
    "for i in range(0,Number_of_Files):\n",
    "    File = pd.read_csv(CSVNames[i],sep=',',header=None)\n",
    "    Confidence = File.iloc[:,-1]\n",
    "    Average = Confidence.mean()\n",
    "    Avg_Confidence.append(Average)\n",
    "\n",
    "Conf_Dataframe = pd.DataFrame(Avg_Confidence).round(3)\n",
    "\n",
    "BinEdges = np.histogram_bin_edges(Conf_Dataframe,len(Conf_Dataframe))\n",
    "\n",
    "Conf_Dataframe.hist(bins=BinEdges)\n",
    "plt.title('Histogram of Average Confidence Values for Receipts')\n",
    "plt.xlabel('Confidence Values')\n",
    "plt.axis([0.88, 1.0, 0, 3.0])\n",
    "plt.show()"
   ]
  },
  {
   "cell_type": "markdown",
   "metadata": {},
   "source": [
    "## Compare Statement and Receipt Totals"
   ]
  },
  {
   "cell_type": "code",
   "execution_count": null,
   "metadata": {},
   "outputs": [],
   "source": []
  }
 ],
 "metadata": {
  "kernelspec": {
   "display_name": "Python 3",
   "language": "python",
   "name": "python3"
  },
  "language_info": {
   "codemirror_mode": {
    "name": "ipython",
    "version": 3
   },
   "file_extension": ".py",
   "mimetype": "text/x-python",
   "name": "python",
   "nbconvert_exporter": "python",
   "pygments_lexer": "ipython3",
   "version": "3.11.7"
  }
 },
 "nbformat": 4,
 "nbformat_minor": 2
}
