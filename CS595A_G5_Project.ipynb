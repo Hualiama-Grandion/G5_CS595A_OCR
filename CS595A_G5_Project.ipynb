{
 "cells": [
  {
   "cell_type": "markdown",
   "metadata": {},
   "source": [
    "# CS 595A - G5 - Project\n",
    "Created by - **Sheridan C. Perry** & **Jesus Ferrand**\n",
    "\n",
    "Last Updated - 4/13/2024"
   ]
  },
  {
   "cell_type": "markdown",
   "metadata": {},
   "source": [
    "# Setup"
   ]
  },
  {
   "cell_type": "markdown",
   "metadata": {},
   "source": [
    "## Check Python Version"
   ]
  },
  {
   "cell_type": "code",
   "execution_count": 3,
   "metadata": {},
   "outputs": [],
   "source": [
    "import sys\n",
    "assert sys.version_info >= (3,11) \n",
    "assert sys.version_info < (3,12)"
   ]
  },
  {
   "cell_type": "markdown",
   "metadata": {},
   "source": [
    "## Import General Packages"
   ]
  },
  {
   "cell_type": "code",
   "execution_count": 21,
   "metadata": {},
   "outputs": [],
   "source": [
    "import pandas as pd\n",
    "import numpy as np\n",
    "import matplotlib as mpl\n",
    "import matplotlib.pyplot as plt\n",
    "import os\n",
    "import csv"
   ]
  },
  {
   "cell_type": "markdown",
   "metadata": {},
   "source": [
    "## MatPlotLib Graphing Settings"
   ]
  },
  {
   "cell_type": "code",
   "execution_count": null,
   "metadata": {},
   "outputs": [],
   "source": [
    "plt.rc('font',size=14)\n",
    "plt.rc('axes',labelsize=14,titlesize=14)\n",
    "plt.rc('legend',fontsize=14)\n",
    "plt.rc('xtick',labelsize=10)\n",
    "plt.rc('ytick',labelsize=10)"
   ]
  },
  {
   "cell_type": "markdown",
   "metadata": {},
   "source": [
    "## Pre-Processing"
   ]
  },
  {
   "cell_type": "markdown",
   "metadata": {},
   "source": [
    "### File Conventions"
   ]
  },
  {
   "cell_type": "code",
   "execution_count": 22,
   "metadata": {},
   "outputs": [],
   "source": [
    "# Location of Files that need to be analyzed using OCR using relative pathing\n",
    "InputDirectory = 'Test 1 Statement'\n",
    "Number_of_Files = len([name for name in os.listdir(InputDirectory)]) # Find files within location and count length\n",
    "\n",
    "# Find files in this directory \n",
    "FileNames_Directory = os.listdir(InputDirectory)\n",
    "\n",
    "InputDirectoryFolder = 'Test 1 Statement/'\n",
    "FileNames_Img = [InputDirectoryFolder + s for s in FileNames_Directory]"
   ]
  },
  {
   "cell_type": "code",
   "execution_count": 23,
   "metadata": {},
   "outputs": [],
   "source": [
    "# Create empty list of CSV Names\n",
    "CSVNames = []\n",
    "\n",
    "# Create CSV Directory Folder\n",
    "CSVDirectory = 'Test 1 CSV/'\n",
    "\n",
    "# Get Stems (names without extensions) of Input File Names\n",
    "FileStems = []\n",
    "for name in FileNames_Directory:\n",
    "    k = name.rfind('.')\n",
    "    FileStems.append(name[:k])\n",
    "\n",
    "# Create CSV File Path using Relative Pathing\n",
    "for i in range(1,Number_of_Files+1):\n",
    "    CSVNames.append(CSVDirectory+FileStems[i-1] + '_' + str(i) + \".csv\")"
   ]
  },
  {
   "cell_type": "markdown",
   "metadata": {},
   "source": [
    "## Optical Character Recognition"
   ]
  },
  {
   "cell_type": "markdown",
   "metadata": {},
   "source": [
    "### Load OCR"
   ]
  },
  {
   "cell_type": "code",
   "execution_count": 24,
   "metadata": {},
   "outputs": [
    {
     "name": "stdout",
     "output_type": "stream",
     "text": [
      "[2024/04/10 15:56:23] ppocr DEBUG: Namespace(help='==SUPPRESS==', use_gpu=True, use_xpu=False, ir_optim=True, use_tensorrt=False, min_subgraph_size=15, shape_info_filename=None, precision='fp32', gpu_mem=500, image_dir=None, det_algorithm='DB', det_model_dir='C:\\\\Users\\\\Owner/.paddleocr/whl\\\\det\\\\en\\\\en_PP-OCRv3_det_infer', det_limit_side_len=960, det_limit_type='max', det_db_thresh=0.3, det_db_box_thresh=0.6, det_db_unclip_ratio=1.5, max_batch_size=10, use_dilation=False, det_db_score_mode='fast', det_east_score_thresh=0.8, det_east_cover_thresh=0.1, det_east_nms_thresh=0.2, det_sast_score_thresh=0.5, det_sast_nms_thresh=0.2, det_sast_polygon=False, det_pse_thresh=0, det_pse_box_thresh=0.85, det_pse_min_area=16, det_pse_box_type='quad', det_pse_scale=1, scales=[8, 16, 32], alpha=1.0, beta=1.0, fourier_degree=5, det_fce_box_type='poly', rec_algorithm='SVTR_LCNet', rec_model_dir='C:\\\\Users\\\\Owner/.paddleocr/whl\\\\rec\\\\en\\\\en_PP-OCRv3_rec_infer', rec_image_shape='3, 48, 320', rec_batch_num=6, max_text_length=25, rec_char_dict_path='c:\\\\Users\\\\Owner\\\\AppData\\\\Local\\\\Programs\\\\Python\\\\Python311\\\\Lib\\\\site-packages\\\\paddleocr\\\\ppocr\\\\utils\\\\en_dict.txt', use_space_char=True, vis_font_path='./doc/fonts/simfang.ttf', drop_score=0.5, e2e_algorithm='PGNet', e2e_model_dir=None, e2e_limit_side_len=768, e2e_limit_type='max', e2e_pgnet_score_thresh=0.5, e2e_char_dict_path='./ppocr/utils/ic15_dict.txt', e2e_pgnet_valid_set='totaltext', e2e_pgnet_mode='fast', use_angle_cls=True, cls_model_dir='C:\\\\Users\\\\Owner/.paddleocr/whl\\\\cls\\\\ch_ppocr_mobile_v2.0_cls_infer', cls_image_shape='3, 48, 192', label_list=['0', '180'], cls_batch_num=6, cls_thresh=0.9, enable_mkldnn=False, cpu_threads=10, use_pdserving=False, warmup=False, sr_model_dir=None, sr_image_shape='3, 32, 128', sr_batch_num=1, draw_img_save_dir='./inference_results', save_crop_res=False, crop_res_save_dir='./output', use_mp=False, total_process_num=1, process_id=0, benchmark=False, save_log_path='./log_output/', show_log=True, use_onnx=False, output='./output', table_max_len=488, table_algorithm='TableAttn', table_model_dir=None, merge_no_span_structure=True, table_char_dict_path=None, layout_model_dir=None, layout_dict_path=None, layout_score_threshold=0.5, layout_nms_threshold=0.5, kie_algorithm='LayoutXLM', ser_model_dir=None, ser_dict_path='../train_data/XFUND/class_list_xfun.txt', ocr_order_method=None, mode='structure', image_orientation=False, layout=True, table=True, ocr=True, recovery=False, save_pdf=False, lang='en', det=True, rec=True, type='ocr', ocr_version='PP-OCRv3', structure_version='PP-Structurev2', page_num=0)\n"
     ]
    }
   ],
   "source": [
    "from paddleocr import PaddleOCR\n",
    "\n",
    "# Set up ocr with angle corrections using english\n",
    "ocr = PaddleOCR(use_angle_cls=True, lang=\"en\")  # need to run only once to download and load model into memory"
   ]
  },
  {
   "cell_type": "markdown",
   "metadata": {},
   "source": [
    "### Execute OCR"
   ]
  },
  {
   "cell_type": "code",
   "execution_count": 25,
   "metadata": {},
   "outputs": [
    {
     "name": "stdout",
     "output_type": "stream",
     "text": [
      "[2024/04/10 15:56:27] ppocr DEBUG: dt_boxes num : 276, elapse : 0.12327003479003906\n",
      "[2024/04/10 15:56:28] ppocr DEBUG: cls num  : 276, elapse : 0.5734338760375977\n",
      "[2024/04/10 15:56:28] ppocr DEBUG: rec_res num  : 276, elapse : 0.37571191787719727\n"
     ]
    }
   ],
   "source": [
    "# Loop to write data from OCR into CSV files\n",
    "for j in range(0,Number_of_Files):\n",
    "    result = ocr.ocr(FileNames_Img[j])\n",
    "    with open(CSVNames[j], 'w', newline='') as file:\n",
    "        writer = csv.writer(file)\n",
    "        for row in result:\n",
    "            csv_row= []\n",
    "            for row0 in row[0]:\n",
    "                csv_row.append(row0[0])\n",
    "                csv_row.append(row0[1])\n",
    "            csv_row.append(row[1][0])\n",
    "            csv_row.append(row[1][1])\n",
    "            writer.writerow(csv_row)"
   ]
  },
  {
   "cell_type": "markdown",
   "metadata": {},
   "source": [
    "### Load Results and Visualize"
   ]
  },
  {
   "cell_type": "code",
   "execution_count": 26,
   "metadata": {},
   "outputs": [],
   "source": [
    "from paddleocr import draw_ocr\n",
    "from PIL import Image\n",
    "\n",
    "# Defined a function to concatenate the bounding box coordinates back into pairs for draw_ocr\n",
    "def combine_columns(row):\n",
    "    return [[row[0], row[1]], [row[2],row[3]], [row[4],row[5]], [row[6],row[7]]]\n",
    "\n",
    "# Ourput File Directory\n",
    "OutputDirectory = 'Test 1 Output/'\n",
    "\n",
    "# Empty list for Final Output Names\n",
    "FinalNames = []\n",
    "\n",
    "# Saves draw_ocr outputs in png format\n",
    "for i in range(1,Number_of_Files+1):\n",
    "    FinalNames.append(OutputDirectory + FileStems[i-1] + \"_\" + str(i) + \".png\")\n",
    "\n",
    "# Pulls corresponding information into draw_ocr, displays resulting image, and saves to output directory\n",
    "for j in range(0,Number_of_Files):  \n",
    "    TestCSV = pd.read_csv(CSVNames[j], sep=',',header=None)\n",
    "    TestCSV['combined'] = TestCSV.apply(combine_columns,axis=1)\n",
    "    image = Image.open(FileNames_Img[j]).convert('RGB')\n",
    "    boxes = TestCSV['combined']\n",
    "    txts = TestCSV[8]\n",
    "    scores = TestCSV[9]\n",
    "    im_show = draw_ocr(image, boxes, txts, scores,font_path='Font\\simfang.ttf')\n",
    "    im_show = Image.fromarray(im_show)\n",
    "    im_show.save(FinalNames[j])"
   ]
  },
  {
   "cell_type": "markdown",
   "metadata": {},
   "source": [
    "## Natural Language Processing"
   ]
  }
 ],
 "metadata": {
  "kernelspec": {
   "display_name": "Python 3",
   "language": "python",
   "name": "python3"
  },
  "language_info": {
   "codemirror_mode": {
    "name": "ipython",
    "version": 3
   },
   "file_extension": ".py",
   "mimetype": "text/x-python",
   "name": "python",
   "nbconvert_exporter": "python",
   "pygments_lexer": "ipython3",
   "version": "3.11.7"
  }
 },
 "nbformat": 4,
 "nbformat_minor": 2
}
